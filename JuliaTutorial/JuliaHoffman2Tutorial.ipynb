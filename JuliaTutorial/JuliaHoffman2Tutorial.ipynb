{
 "cells": [
  {
   "cell_type": "markdown",
   "metadata": {},
   "source": [
    "# Hoffman2 / Cluster Computing Introduction and Tutorial "
   ]
  },
  {
   "cell_type": "markdown",
   "metadata": {},
   "source": [
    "This tutorial was created for `julia v1.1.0`. There is an [R version](https://github.com/chris-german/Hoffman2Tutorials/tree/master/RTutorial) available as well in this github repo. It goes over details of Hoffman2 jobs specific to R as well as running similar simulations in `R`."
   ]
  },
  {
   "cell_type": "markdown",
   "metadata": {},
   "source": [
    "At the time of running, this was run with the following specs:"
   ]
  },
  {
   "cell_type": "code",
   "execution_count": 1,
   "metadata": {},
   "outputs": [
    {
     "name": "stdout",
     "output_type": "stream",
     "text": [
      "Julia Version 1.1.0\n",
      "Commit 80516ca202 (2019-01-21 21:24 UTC)\n",
      "Platform Info:\n",
      "  OS: macOS (x86_64-apple-darwin14.5.0)\n",
      "  CPU: Intel(R) Core(TM) i7-4850HQ CPU @ 2.30GHz\n",
      "  WORD_SIZE: 64\n",
      "  LIBM: libopenlibm\n",
      "  LLVM: libLLVM-6.0.1 (ORCJIT, haswell)\n"
     ]
    }
   ],
   "source": [
    "versioninfo()"
   ]
  },
  {
   "cell_type": "markdown",
   "metadata": {},
   "source": [
    "# Hoffman2 Julia Tutorial"
   ]
  },
  {
   "cell_type": "markdown",
   "metadata": {},
   "source": [
    "## What is it and how to use\n",
    "For basic information on Hoffman2, including submitting jobs, resources available, transfering files, and other general information, refer to the general `README.md` file found at the [initial page of the github repo](https://github.com/chris-german/Hoffman2Tutorials)."
   ]
  },
  {
   "cell_type": "markdown",
   "metadata": {},
   "source": [
    "# Available Software\n",
    "\n",
    "There are several versions of Julia available on Hoffman2. To see the versions currently available, type:\n",
    "\n",
    "``` \n",
    "module avail julia\n",
    "```\n",
    "\n",
    "<img src=\"pngs/modavailjulia.png\" width=\"700\">"
   ]
  },
  {
   "cell_type": "markdown",
   "metadata": {},
   "source": [
    "# Loading Software\n",
    "To load a module, say `julia` version 1.1.0, for use type:\n",
    "```\n",
    "module load julia/1.1.0\n",
    "```\n",
    "\n",
    "If you are going to need packages installed for your use on Hoffman2, load julia using `julia` and then install the packges. Note: This should be done on a compute node as compiling julia and libraries can take quite a bit of resources. Therefore, you should use `qrsh`, discussed in the general guide. Computing power is limited on login nodes so you should not run any analyses on the login node."
   ]
  },
  {
   "cell_type": "markdown",
   "metadata": {},
   "source": [
    "# Accessing a compute node\n",
    "\n",
    "## qsub\n",
    "\n",
    "For most analyses/jobs you'd like to run on Hoffman2, you should use the `qsub` command. This submits a batch job to the queue (scheduler). The type of file you `qsub` has to have a specific format (shell script).\n"
   ]
  },
  {
   "cell_type": "code",
   "execution_count": 24,
   "metadata": {},
   "outputs": [
    {
     "name": "stdout",
     "output_type": "stream",
     "text": [
      "#!/bin/bash #sets bash up\n",
      "#$ -cwd #uses current working directory\n",
      "# error = Merged with joblog\n",
      "#$ -o joblog.$JOB_ID #creates a file called joblog.jobidnumber to write to. \n",
      "#$ -j y \n",
      "#$ -l h_rt=0:30:00,h_data=2G #requests 30 minutes, 2GB of data (per core)\n",
      "#$ -pe shared 2 #requests 2 cores\n",
      "# Email address to notify\n",
      "#$ -M $USER@mail #don't change this line, finds your email in the system \n",
      "# Notify when\n",
      "#$ -m bea #sends you an email (b) when the job begins (e) when job ends (a) when job is aborted (error)\n",
      "\n",
      "# load the job environment:\n",
      ". /u/local/Modules/default/init/modules.sh\n",
      "module load julia/1.1.0 #loads julia/1.1.0 for use \n",
      "\n",
      "# run julia code\n",
      "echo 'Running runSim.jl for n = 500' #prints this quote to joblog.jobidnumber\n",
      "julia -e \"n = 500;  include('runSim.jl')\" > output.$JOB_ID 2>&1 #runs julia code in quotes and outputs any text to output.JOB_ID\n"
     ]
    }
   ],
   "source": [
    ";cat submit.sh"
   ]
  },
  {
   "cell_type": "markdown",
   "metadata": {},
   "source": [
    "To send this script to the scheduler to run on a compute node, you would simply type:\n",
    "\n",
    "```\n",
    "qsub submit.sh\n",
    "```\n",
    "\n",
    "## qrsh\n",
    "\n",
    "For some analyses, you may want to do things interactively instead of just submitting jobs. The `qrsh` command is for loading you onto an interactive compute node. \n",
    "\n",
    "Typing `qrsh` on the Hoffman2 login node will submit q request for an interactive session. By default, the session will run for two hours and the physical memory alotted will be 1GB.\n",
    "\n",
    "To request more, you can use the commmand\n",
    "```\n",
    "qrsh -l h_rt=4:00:00,h_data=4G\n",
    "```\n",
    "\n",
    "This will request a four hour session where the maximum physical memory is 4GB. \n",
    "\n",
    "If you'd like to use more than one CPU core for your job, add `-pe shared #` to the end. Note, the amount of memory requested will be for each core. For example, if you'd like to request 4 CPU cores, each with 2GB of memory for a total of 8GB for 5 hours, run:\n",
    "```\n",
    "qrsh -l h_rt=5:00:00,h_data=2G -pe shared 4\n",
    "```\n",
    "\n",
    "The more time and memory you request, the longer you will have to wait for an interactive compute node to become available to you. It's normal to wait a few minutes to get an interactive session. \n",
    "\n",
    "For more advanced options you can use\n",
    "                                        \n",
    "```\n",
    "   qrsh -help                                     \n",
    "```\n",
    "\n",
    "Once the interactive session loads, you can use \n",
    "\n",
    "```module load julia/1.1.0\n",
    "julia\n",
    "```\n",
    "\n",
    "to load `julia v1.1.0`."
   ]
  },
  {
   "cell_type": "markdown",
   "metadata": {},
   "source": [
    "## Resource limitations\n",
    "The maximum time for a session is 24 hours unless you're working in a group that owns their compute nodes. So do not have an `h_rt` value greated than `h_rt=24:00:00`.\n",
    "\n",
    "Different compute nodes have different amounts of memory. There are fewer nodes with lots of memory, so the larger the amount of memory you're requesting the longer you will have to wait for the job to start running. If you request too much, the job may never run. \n",
    "\n",
    "Requesting more than 4 cores for an interactive session can possibly take a long time for the interactive session to start. \n"
   ]
  },
  {
   "cell_type": "markdown",
   "metadata": {},
   "source": [
    "## A single simulation run\n",
    "\n",
    "The `runSim.jl` runs a simulation study to compare two methods for estimating mean: `est_mean_prime` and `est_mean_avg`. In each replicate, it generates a random vector of sample size `n`, from distribution `d`, and using seed `s`. There are `reps` replicates. Values of `n`, `d`, `s` and `reps` are to be defined by the user. `oFile` is the file to save the results under. Simulation results are written to a CSV file, `outfile`. "
   ]
  },
  {
   "cell_type": "code",
   "execution_count": 5,
   "metadata": {},
   "outputs": [
    {
     "name": "stdout",
     "output_type": "stream",
     "text": [
      "using DelimitedFiles, Distributions, Primes, Random, Statistics\n",
      "\n",
      "\"\"\"\n",
      "    est_mean_prime(x)\n",
      "\n",
      "Estimate mean by averaging prime-indexed data in `x`.\n",
      "\"\"\"\n",
      "function est_mean_prime(x::Vector{<:Real})\n",
      "    s, c = zero(eltype(x)), 0\n",
      "    for i in eachindex(x)\n",
      "        if Primes.isprime(i)\n",
      "            s += x[i]\n",
      "            c += 1\n",
      "        end\n",
      "    end\n",
      "    s / c\n",
      "end\n",
      "\n",
      "\"\"\"\n",
      "    est_mean_avg(x)\n",
      "\n",
      "Estimate mean by sample average.\n",
      "\"\"\"\n",
      "function est_mean_avg(x::Vector{<:Real})\n",
      "    mean(x)\n",
      "end\n",
      "\n",
      "function compare_methods(n::Int, d::ContinuousUnivariateDistribution)\n",
      "    x = rand(d, n)\n",
      "    est_mean_avg(x), est_mean_prime(x)\n",
      "end\n",
      "\n",
      "# Simulate `reps` replicates of sample size `n` from distribution `d` using seed `s`\n",
      "simres = zeros(reps, 2)\n",
      "for r in 1:reps\n",
      "    Random.seed!(s)\n",
      "    x = rand(d, n)\n",
      "    simres[r, 1] = est_mean_avg(x)\n",
      "    simres[r, 2] = est_mean_prime(x)\n",
      "end\n",
      "\n",
      "outfile = \"n_$(n)_reps_$(reps)_dist_$(d).txt\"\n",
      "DelimitedFiles.writedlm(outfile, simres, \",\")\n",
      "# may add an optional zip step here to reduce storage"
     ]
    }
   ],
   "source": [
    ";cat runSim.jl"
   ]
  },
  {
   "cell_type": "markdown",
   "metadata": {},
   "source": [
    "To run this simulation from command line, user needs to pass values for `n`, `d`, `s`, `reps`. For example,\n",
    "```\n",
    "module load julia/1.1.0\n",
    "julia -e \"n = 100; d = 'Normal()'; reps = 100; s = 123; include('runSim.jl')\"\n",
    "```\n",
    "\n",
    "We can see the results have been written to the txt file.\n",
    "```{bash}\n",
    "head n_100d_rnorm\\(n\\).txt \n",
    "```\n",
    "\n",
    "If you experience an error, you can take a look at the output.#### file that was generated. This files indicates any output generated in julia. \n",
    "\n",
    "\n",
    "Alternatively, as mentioned before. You can use a `.sh` script like the `submit.sh` and submit the job using \n",
    "```\n",
    "qsub jobscript.sh\n",
    "```"
   ]
  },
  {
   "cell_type": "markdown",
   "metadata": {},
   "source": [
    "## Multiple simulation runs\n",
    "\n",
    "In many projects, we vary the values of different simulation factors such as sample size, generative model, and so on. We can write another julia script to organize multiple simulations. It's easy to set up and perform embarrasingly parallel simulation tasks.\n",
    "\n",
    "On a cluster, each simulation needs to be submitted separately (spread across different compute nodes). The syntax depends on the scheduling system. On UCLA's Hoffman2 cluster, `qsub` is used. In `ClusterSim.jl`, we loop over n = 100, 200, ..., 500 and generative models standard normal, T distribution with 5 degree of freedom, and T distribution with 1 degree of freedom and submit the jobs by building the file with each scenario to submit and using `qsub`. "
   ]
  },
  {
   "cell_type": "code",
   "execution_count": 6,
   "metadata": {},
   "outputs": [
    {
     "name": "stdout",
     "output_type": "stream",
     "text": [
      "reps = 100 # number of simulatin replicates\n",
      "s = 123 # seed\n",
      "for n in 100:100:500\n",
      "    for d in [\"Normal()\", \"TDist(5)\", \"TDist(1)\"]\n",
      "        println(\"submit job for n=$n, d=$d\")\n",
      "        jcode = \"using Distributions; d, n, reps, s = $d, $n, $reps, $s; include(\\\"runSim.jl\\\")\"\n",
      "        # prepare sh file for qsub\n",
      "        open(\"tmp.sh\", \"w\") do io\n",
      "            println(io, \"#!/bin/bash\")\n",
      "            println(io, \"#\\$ -cwd\")\n",
      "            println(io, \"# error = Merged with joblog\")\n",
      "            println(io, \"#\\$ -o joblog.\\$JOB_ID\")\n",
      "            println(io, \"#\\$ -j y\")\n",
      "            println(io, \"#\\$ -l h_rt=0:30:00,h_data=2G\") # request runtime and memory\n",
      "            println(io, \"#\\$ -pe shared 2\") # request # shared-memory nodes\n",
      "            println(io, \"# Email address to notify\")\n",
      "            println(io, \"#\\$ -M \\$USER@mail\")\n",
      "            println(io, \"# Notify when\")\n",
      "            println(io, \"#\\$ -m a\")\n",
      "            println(io)\n",
      "            println(io, \"# load the job environment:\")\n",
      "            println(io, \". /u/local/Modules/default/init/modules.sh\")\n",
      "            println(io, \"module load julia/1.0.1\")\n",
      "            println(io, \"module load R/3.5.1\")\n",
      "            println(io)\n",
      "            println(io, \"# run julia code\")\n",
      "            println(io, \"julia -e '$jcode' > output.\\$JOB_ID 2>&1\")\n",
      "        end\n",
      "        # submit job\n",
      "        run(`qsub tmp.sh`)\n",
      "    end\n",
      "end\n"
     ]
    }
   ],
   "source": [
    ";cat ClusterSim.jl"
   ]
  },
  {
   "cell_type": "markdown",
   "metadata": {},
   "source": [
    "So on the cluster we just need to run the following on an interactive compute node\n",
    "```\n",
    "julia ClusterSim.R\n",
    "```\n",
    "<img src=\"pngs/juliasims.png\" width=\"500\">\n"
   ]
  },
  {
   "cell_type": "markdown",
   "metadata": {},
   "source": [
    "The generated `tmp.sh` file will read like this with different sample size and distributions created:"
   ]
  },
  {
   "cell_type": "code",
   "execution_count": 25,
   "metadata": {},
   "outputs": [
    {
     "name": "stdout",
     "output_type": "stream",
     "text": [
      "#!/bin/bash\n",
      "#$ -cwd\n",
      "# error = Merged with joblog\n",
      "#$ -o joblog.$JOB_ID\n",
      "#$ -j y\n",
      "#$ -l h_rt=0:30:00,h_data=2G\n",
      "#$ -pe shared 2\n",
      "# Email address to notify\n",
      "#$ -M $USER@mail\n",
      "# Notify when\n",
      "#$ -m a\n",
      "\n",
      "# load the job environment:\n",
      ". /u/local/Modules/default/init/modules.sh\n",
      "module load julia/1.0.1\n",
      "module load R/3.5.1\n",
      "\n",
      "# run julia code\n",
      "julia -e 'using Distributions; d, n, reps, s = TDist(1), 500, 100, 123; include(\"runSim.jl\")' > output.$JOB_ID 2>&1\n"
     ]
    }
   ],
   "source": [
    ";cat tmp.sh"
   ]
  },
  {
   "cell_type": "markdown",
   "metadata": {},
   "source": [
    "You can check on the state of your current jobs by running:\n",
    "```{bash, eval=FALSE}\n",
    "myjob\n",
    "```\n",
    "<img src=\"pngs/myjob.png\" width=\"800\">\n",
    "\n",
    "This command tells you the status of your job in the queue `qw` for queued and waiting, `r` for running. It also tells you the number of cores requested for the job, when the job was requested, and which nodes the job is running on.\n",
    "\n",
    "\n",
    "To check the output files generated after the jobs have run:"
   ]
  },
  {
   "cell_type": "code",
   "execution_count": 26,
   "metadata": {},
   "outputs": [
    {
     "data": {
      "text/plain": [
       "15-element Array{String,1}:\n",
       " \"n_100_reps_100_dist_Normal{Float64}(μ=0.0, σ=1.0).txt\"\n",
       " \"n_100_reps_100_dist_TDist{Float64}(ν=1.0).txt\"        \n",
       " \"n_100_reps_100_dist_TDist{Float64}(ν=5.0).txt\"        \n",
       " \"n_200_reps_100_dist_Normal{Float64}(μ=0.0, σ=1.0).txt\"\n",
       " \"n_200_reps_100_dist_TDist{Float64}(ν=1.0).txt\"        \n",
       " \"n_200_reps_100_dist_TDist{Float64}(ν=5.0).txt\"        \n",
       " \"n_300_reps_100_dist_Normal{Float64}(μ=0.0, σ=1.0).txt\"\n",
       " \"n_300_reps_100_dist_TDist{Float64}(ν=1.0).txt\"        \n",
       " \"n_300_reps_100_dist_TDist{Float64}(ν=5.0).txt\"        \n",
       " \"n_400_reps_100_dist_Normal{Float64}(μ=0.0, σ=1.0).txt\"\n",
       " \"n_400_reps_100_dist_TDist{Float64}(ν=1.0).txt\"        \n",
       " \"n_400_reps_100_dist_TDist{Float64}(ν=5.0).txt\"        \n",
       " \"n_500_reps_100_dist_Normal{Float64}(μ=0.0, σ=1.0).txt\"\n",
       " \"n_500_reps_100_dist_TDist{Float64}(ν=1.0).txt\"        \n",
       " \"n_500_reps_100_dist_TDist{Float64}(ν=5.0).txt\"        "
      ]
     },
     "execution_count": 26,
     "metadata": {},
     "output_type": "execute_result"
    }
   ],
   "source": [
    "cd(readdir, \"simresults\")"
   ]
  },
  {
   "cell_type": "markdown",
   "metadata": {},
   "source": [
    "# Using Jupyter Notebook\n",
    "\n",
    "To use Jupyter Notebook interactively in Hoffman2, follow the instructions linked [here](https://www.hoffman2.idre.ucla.edu/access/jupyter-notebook/)\n",
    "\n",
    "Note, to use Julia in Jupyter notebook, you will need to make sure you have installed the `IJulia` package in the version of julia that you would like to use -- to use `julia v1.1.0`, login to Hoffman2, use the `qrsh` command to get an interactive compute note, then load julia 1.1.0, and launch julia and install the `IJulia` package."
   ]
  }
 ],
 "metadata": {
  "@webio": {
   "lastCommId": null,
   "lastKernelId": null
  },
  "kernelspec": {
   "display_name": "Julia 1.1.0",
   "language": "julia",
   "name": "julia-1.1"
  },
  "language_info": {
   "file_extension": ".jl",
   "mimetype": "application/julia",
   "name": "julia",
   "version": "1.1.0"
  }
 },
 "nbformat": 4,
 "nbformat_minor": 2
}
